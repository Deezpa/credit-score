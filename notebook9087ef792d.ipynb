{
 "cells": [
  {
   "cell_type": "code",
   "execution_count": 1,
   "id": "d7043ed8",
   "metadata": {
    "_cell_guid": "b1076dfc-b9ad-4769-8c92-a6c4dae69d19",
    "_uuid": "8f2839f25d086af736a60e9eeb907d3b93b6e0e5",
    "execution": {
     "iopub.execute_input": "2024-05-21T11:03:54.417259Z",
     "iopub.status.busy": "2024-05-21T11:03:54.416822Z",
     "iopub.status.idle": "2024-05-21T11:03:55.433311Z",
     "shell.execute_reply": "2024-05-21T11:03:55.432008Z"
    },
    "papermill": {
     "duration": 1.026242,
     "end_time": "2024-05-21T11:03:55.436415",
     "exception": false,
     "start_time": "2024-05-21T11:03:54.410173",
     "status": "completed"
    },
    "tags": []
   },
   "outputs": [],
   "source": [
    "# This Python 3 environment comes with many helpful analytics libraries installed\n",
    "# It is defined by the kaggle/python Docker image: https://github.com/kaggle/docker-python\n",
    "# For example, here's several helpful packages to load\n",
    "\n",
    "import numpy as np # linear algebra\n",
    "import pandas as pd # data processing, CSV file I/O (e.g. pd.read_csv)\n",
    "\n",
    "# Input data files are available in the read-only \"../input/\" directory\n",
    "# For example, running this (by clicking run or pressing Shift+Enter) will list all files under the input directory\n",
    "\n",
    "import os\n",
    "for dirname, _, filenames in os.walk('/kaggle/input'):\n",
    "    for filename in filenames:\n",
    "        print(os.path.join(dirname, filename))\n",
    "\n",
    "# You can write up to 20GB to the current directory (/kaggle/working/) that gets preserved as output when you create a version using \"Save & Run All\" \n",
    "# You can also write temporary files to /kaggle/temp/, but they won't be saved outside of the current session"
   ]
  },
  {
   "cell_type": "markdown",
   "id": "300d5b6d",
   "metadata": {
    "papermill": {
     "duration": 0.004092,
     "end_time": "2024-05-21T11:03:55.445390",
     "exception": false,
     "start_time": "2024-05-21T11:03:55.441298",
     "status": "completed"
    },
    "tags": []
   },
   "source": [
    "# to create a dataset with 500 profiles for credit scoring\n",
    "## dataset characteristics and the information \n",
    "### Dataset Attributes\n",
    " ####   1. Profile_ID: A unique identifier for each profile.\n",
    " ####   2. Age: The age of the individual.\n",
    " ####   3. Employment_Status: Categorical values including Employed, Self-employed, Unemployed, Student.\n",
    " ####   4. Residential_Stability: Measured in years at the current address.\n",
    " ####   5. Bank_Account_Tenure: Duration (in years) of having a bank account.\n",
    " ####   6. Utility_Payment_History: Categorical, e.g., Consistent, Inconsistent, New.\n",
    " ####   7.Rent_Payment_History: Categorical, e.g., Consistent, Inconsistent, New.\n",
    " ####   8. Telecommunications_Payment_History: Categorical, e.g., Consistent, Inconsistent, New.\n",
    " ####   9. Educational_Background: Highest level of education, e.g., High School, Bachelor's, Master's, PhD.\n",
    " ####   10. Online_Shopping_Behavior: Frequency of online transactions, e.g., None, Occasional, Frequent.\n",
    " ####   11. Social_Media_Footprint: Activity level on social media, e.g., Low, Medium, High.\n",
    " ####   12. Gig_Economy_Participation: Involvement level in gig work, e.g., None, Part-Time, Full-Time.\n",
    "#\n",
    "#\n",
    "#\n",
    "### Generation Approach\n",
    "#### Diversity and Realism: Ensure that generated data reflects realistic distributions and variations to mimic real-world scenarios.\n",
    "#### Data Anonymization: Apply techniques to maintain privacy and compliance with data protection regulations.\n",
    "#### Synthetic Data Generation: Utilize Python libraries such as pandas for data manipulation and faker for generating synthetic data.\n",
    "#\n",
    "#\n",
    "### Python Code to Generate the Dataset"
   ]
  },
  {
   "cell_type": "code",
   "execution_count": 2,
   "id": "ac444bf9",
   "metadata": {
    "execution": {
     "iopub.execute_input": "2024-05-21T11:03:55.456034Z",
     "iopub.status.busy": "2024-05-21T11:03:55.455489Z",
     "iopub.status.idle": "2024-05-21T11:03:55.460827Z",
     "shell.execute_reply": "2024-05-21T11:03:55.459660Z"
    },
    "papermill": {
     "duration": 0.013583,
     "end_time": "2024-05-21T11:03:55.463360",
     "exception": false,
     "start_time": "2024-05-21T11:03:55.449777",
     "status": "completed"
    },
    "tags": []
   },
   "outputs": [],
   "source": [
    "import pandas as pd\n",
    "import numpy as np\n"
   ]
  },
  {
   "cell_type": "markdown",
   "id": "5bd12e75",
   "metadata": {
    "papermill": {
     "duration": 0.004204,
     "end_time": "2024-05-21T11:03:55.472122",
     "exception": false,
     "start_time": "2024-05-21T11:03:55.467918",
     "status": "completed"
    },
    "tags": []
   },
   "source": [
    "# Define the number of profiles"
   ]
  },
  {
   "cell_type": "code",
   "execution_count": 3,
   "id": "d03bc783",
   "metadata": {
    "execution": {
     "iopub.execute_input": "2024-05-21T11:03:55.482883Z",
     "iopub.status.busy": "2024-05-21T11:03:55.482444Z",
     "iopub.status.idle": "2024-05-21T11:03:55.487720Z",
     "shell.execute_reply": "2024-05-21T11:03:55.486556Z"
    },
    "papermill": {
     "duration": 0.013751,
     "end_time": "2024-05-21T11:03:55.490420",
     "exception": false,
     "start_time": "2024-05-21T11:03:55.476669",
     "status": "completed"
    },
    "tags": []
   },
   "outputs": [],
   "source": [
    "num_profiles = 500"
   ]
  },
  {
   "cell_type": "markdown",
   "id": "44307fcc",
   "metadata": {
    "papermill": {
     "duration": 0.004163,
     "end_time": "2024-05-21T11:03:55.499214",
     "exception": false,
     "start_time": "2024-05-21T11:03:55.495051",
     "status": "completed"
    },
    "tags": []
   },
   "source": [
    "# Generate synthetic data"
   ]
  },
  {
   "cell_type": "code",
   "execution_count": 4,
   "id": "0ce5ce6d",
   "metadata": {
    "execution": {
     "iopub.execute_input": "2024-05-21T11:03:55.509759Z",
     "iopub.status.busy": "2024-05-21T11:03:55.509372Z",
     "iopub.status.idle": "2024-05-21T11:03:55.529967Z",
     "shell.execute_reply": "2024-05-21T11:03:55.528828Z"
    },
    "papermill": {
     "duration": 0.029519,
     "end_time": "2024-05-21T11:03:55.533130",
     "exception": false,
     "start_time": "2024-05-21T11:03:55.503611",
     "status": "completed"
    },
    "tags": []
   },
   "outputs": [],
   "source": [
    "data = {\n",
    "    \"Profile_ID\": np.arange(1, num_profiles + 1),\n",
    "    \"Age\": np.random.randint(18, 65, size=num_profiles),\n",
    "    \"Employment_Status\": np.random.choice([\"Employed\", \"Self-employed\", \"Unemployed\", \"Student\"], size=num_profiles),\n",
    "    \"Residential_Stability\": np.random.randint(0, 30, size=num_profiles),\n",
    "    \"Bank_Account_Tenure\": np.random.randint(0, 30, size=num_profiles),\n",
    "    \"Utility_Payment_History\": np.random.choice([\"Consistent\", \"Inconsistent\", \"New\"], size=num_profiles),\n",
    "    \"Rent_Payment_History\": np.random.choice([\"Consistent\", \"Inconsistent\", \"New\"], size=num_profiles),\n",
    "    \"Telecommunications_Payment_History\": np.random.choice([\"Consistent\", \"Inconsistent\", \"New\"], size=num_profiles),\n",
    "    \"Educational_Background\": np.random.choice([\"High School\", \"Bachelor's\", \"Master's\", \"PhD\"], size=num_profiles),\n",
    "    \"Online_Shopping_Behavior\": np.random.choice([\"None\", \"Occasional\", \"Frequent\"], size=num_profiles),\n",
    "    \"Social_Media_Footprint\": np.random.choice([\"Low\", \"Medium\", \"High\"], size=num_profiles),\n",
    "    \"Gig_Economy_Participation\": np.random.choice([\"None\", \"Part-Time\", \"Full-Time\"], size=num_profiles)\n",
    "}\n",
    "\n",
    "df = pd.DataFrame(data)"
   ]
  },
  {
   "cell_type": "markdown",
   "id": "cca8aa52",
   "metadata": {
    "papermill": {
     "duration": 0.004087,
     "end_time": "2024-05-21T11:03:55.541746",
     "exception": false,
     "start_time": "2024-05-21T11:03:55.537659",
     "status": "completed"
    },
    "tags": []
   },
   "source": [
    "# Anonymizing the Profile_ID"
   ]
  },
  {
   "cell_type": "code",
   "execution_count": 5,
   "id": "133587ff",
   "metadata": {
    "execution": {
     "iopub.execute_input": "2024-05-21T11:03:55.552345Z",
     "iopub.status.busy": "2024-05-21T11:03:55.551920Z",
     "iopub.status.idle": "2024-05-21T11:03:55.565995Z",
     "shell.execute_reply": "2024-05-21T11:03:55.564828Z"
    },
    "papermill": {
     "duration": 0.022578,
     "end_time": "2024-05-21T11:03:55.568735",
     "exception": false,
     "start_time": "2024-05-21T11:03:55.546157",
     "status": "completed"
    },
    "tags": []
   },
   "outputs": [],
   "source": [
    "df['Profile_ID'] = df['Profile_ID'].apply(lambda x: hash(\"Profile_\" + str(x)) % 1000000)"
   ]
  },
  {
   "cell_type": "markdown",
   "id": "cc44e6db",
   "metadata": {
    "papermill": {
     "duration": 0.00412,
     "end_time": "2024-05-21T11:03:55.577457",
     "exception": false,
     "start_time": "2024-05-21T11:03:55.573337",
     "status": "completed"
    },
    "tags": []
   },
   "source": [
    "# Display the first few rows of the dataframe to verify"
   ]
  },
  {
   "cell_type": "code",
   "execution_count": 6,
   "id": "6b40ebde",
   "metadata": {
    "execution": {
     "iopub.execute_input": "2024-05-21T11:03:55.587930Z",
     "iopub.status.busy": "2024-05-21T11:03:55.587505Z",
     "iopub.status.idle": "2024-05-21T11:03:55.600337Z",
     "shell.execute_reply": "2024-05-21T11:03:55.599224Z"
    },
    "papermill": {
     "duration": 0.021279,
     "end_time": "2024-05-21T11:03:55.603164",
     "exception": false,
     "start_time": "2024-05-21T11:03:55.581885",
     "status": "completed"
    },
    "tags": []
   },
   "outputs": [
    {
     "name": "stdout",
     "output_type": "stream",
     "text": [
      "   Profile_ID  Age Employment_Status  Residential_Stability  \\\n",
      "0       29182   18     Self-employed                      0   \n",
      "1      501469   26        Unemployed                     25   \n",
      "2      397356   50          Employed                      1   \n",
      "3      337865   38     Self-employed                      6   \n",
      "4      673376   28     Self-employed                     25   \n",
      "\n",
      "   Bank_Account_Tenure Utility_Payment_History Rent_Payment_History  \\\n",
      "0                    9                     New         Inconsistent   \n",
      "1                   24                     New         Inconsistent   \n",
      "2                    0            Inconsistent                  New   \n",
      "3                   29            Inconsistent         Inconsistent   \n",
      "4                    9                     New           Consistent   \n",
      "\n",
      "  Telecommunications_Payment_History Educational_Background  \\\n",
      "0                                New            High School   \n",
      "1                       Inconsistent            High School   \n",
      "2                         Consistent            High School   \n",
      "3                         Consistent                    PhD   \n",
      "4                       Inconsistent                    PhD   \n",
      "\n",
      "  Online_Shopping_Behavior Social_Media_Footprint Gig_Economy_Participation  \n",
      "0                     None                   High                 Part-Time  \n",
      "1                     None                 Medium                 Part-Time  \n",
      "2                 Frequent                 Medium                 Part-Time  \n",
      "3               Occasional                   High                 Full-Time  \n",
      "4               Occasional                 Medium                 Part-Time  \n"
     ]
    }
   ],
   "source": [
    "print(df.head())"
   ]
  },
  {
   "cell_type": "markdown",
   "id": "d3399106",
   "metadata": {
    "papermill": {
     "duration": 0.004304,
     "end_time": "2024-05-21T11:03:55.612251",
     "exception": false,
     "start_time": "2024-05-21T11:03:55.607947",
     "status": "completed"
    },
    "tags": []
   },
   "source": [
    "#### This script will generate a dataset of 500 profiles with diverse and realistic data, maintaining compliance with ethical standards and privacy considerations.\n",
    "#### to reflect realistic and diverse consumer scenarios"
   ]
  }
 ],
 "metadata": {
  "kaggle": {
   "accelerator": "none",
   "dataSources": [],
   "dockerImageVersionId": 30698,
   "isGpuEnabled": false,
   "isInternetEnabled": true,
   "language": "python",
   "sourceType": "notebook"
  },
  "kernelspec": {
   "display_name": "Python 3",
   "language": "python",
   "name": "python3"
  },
  "language_info": {
   "codemirror_mode": {
    "name": "ipython",
    "version": 3
   },
   "file_extension": ".py",
   "mimetype": "text/x-python",
   "name": "python",
   "nbconvert_exporter": "python",
   "pygments_lexer": "ipython3",
   "version": "3.10.13"
  },
  "papermill": {
   "default_parameters": {},
   "duration": 4.922209,
   "end_time": "2024-05-21T11:03:56.139780",
   "environment_variables": {},
   "exception": null,
   "input_path": "__notebook__.ipynb",
   "output_path": "__notebook__.ipynb",
   "parameters": {},
   "start_time": "2024-05-21T11:03:51.217571",
   "version": "2.5.0"
  }
 },
 "nbformat": 4,
 "nbformat_minor": 5
}
